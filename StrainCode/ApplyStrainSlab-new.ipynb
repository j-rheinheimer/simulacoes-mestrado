{
 "cells": [
  {
   "cell_type": "code",
   "execution_count": 20,
   "id": "58817b57",
   "metadata": {},
   "outputs": [],
   "source": [
    "from ase import io\n",
    "from ase import Atoms\n",
    "from ase.visualize import view\n",
    "from ase import geometry\n",
    "from ase.io import read\n",
    "import numpy as np\n"
   ]
  },
  {
   "cell_type": "code",
   "execution_count": 21,
   "id": "49ef4759",
   "metadata": {},
   "outputs": [
    {
     "name": "stdout",
     "output_type": "stream",
     "text": [
      "4.497 7.789032481637241\n"
     ]
    }
   ],
   "source": [
    "a= 4.497\n",
    "b=2*a*np.sin(60*np.pi/180)\n",
    "print(a,b)"
   ]
  },
  {
   "cell_type": "code",
   "execution_count": 22,
   "id": "a09259ce",
   "metadata": {},
   "outputs": [],
   "source": [
    "# Load Relaxed, unstrained slab. Nothe the file has been\n",
    "# previously relaxed with ttm3f\n",
    "\n",
    "direct='/Users/marivi/RESEARCH/TTM/Periodic-Betul/SRC_periodic/minener_CG/Ice_Slab/6_15_8/Snap0dip/'\n",
    "file = 'relax.xyz'\n",
    "slab=read(direct+file) \n",
    "Na = len(slab)\n",
    "slab.cell=[[        26.982000,   0.000000,    0.000000],\n",
    "        [0.000000 ,   116.835000  ,  0.000000],\n",
    "        [0.000000  ,  0.000000  , 58.568000 ]]\n"
   ]
  },
  {
   "cell_type": "code",
   "execution_count": 23,
   "id": "400aeda6",
   "metadata": {},
   "outputs": [
    {
     "data": {
      "text/plain": [
       "<Popen: returncode: None args: ['/Users/marivi/SOFT/miniforge3/bin/python3.9...>"
      ]
     },
     "execution_count": 23,
     "metadata": {},
     "output_type": "execute_result"
    }
   ],
   "source": [
    "#slab.get_positions()[0]\n",
    "view(slab)\n",
    "#Na = len(slab)"
   ]
  },
  {
   "cell_type": "code",
   "execution_count": 311,
   "id": "81c2a5a9",
   "metadata": {},
   "outputs": [],
   "source": [
    "# Note the non periodic direction is y\n",
    "\n",
    "#slab.cell=[[        22.485000,   0.000000,    0.000000],\n",
    "#        [0.000000 ,   77.890000  ,  0.000000],\n",
    "#        [0.000000  ,  0.000000  , 40.000 ]]\n",
    "\n"
   ]
  },
  {
   "cell_type": "code",
   "execution_count": 5,
   "id": "b007e6a6",
   "metadata": {},
   "outputs": [],
   "source": [
    "# Create an array with all the OH vectors, in order\n",
    "slab_o=slab[slab.symbols == 'O'].copy()\n",
    "slab_h=slab[slab.symbols == 'H'].copy()\n",
    "slab_vh=[]\n",
    "for i in range(int(Na/3)):\n",
    "    vh1=slab_h.get_positions()[2*i]-slab_o.get_positions()[i]\n",
    "    vh2=slab_h.get_positions()[2*i+1]-slab_o.get_positions()[i]\n",
    "    slab_vh.append(vh1)\n",
    "    slab_vh.append(vh2)\n"
   ]
  },
  {
   "cell_type": "code",
   "execution_count": 6,
   "id": "5581cdb5",
   "metadata": {},
   "outputs": [],
   "source": [
    "# This part of the code is to Apply strain gradient to O slab along Z\n",
    "# Not useful for the relaxation because all O atoms would have to be constrained\n",
    "sg=1 # 0.1% strain gradient\n",
    "minZ=min(slab_o.positions[:][2]) # Minimum z coordinate\n",
    "slab_os=slab_o.copy()\n",
    "for i in range(int(Na/3)):\n",
    "    deltaz = slab_os.positions[i][2]-minZ\n",
    "    deltaz = deltaz*( 1 + deltaz*sg/100)\n",
    "    slab_os.positions[i][2]=deltaz\n",
    "# Create a new Strained slab object from original\n",
    "slab_str=slab.copy()\n",
    "for i in range(int(Na/3)):\n",
    "    slab_str.positions[3*i]=slab_os.positions[i]\n",
    "    slab_str.positions[3*i+1]=slab_os.positions[i]+slab_vh[2*i]\n",
    "    slab_str.positions[3*i+2]=slab_os.positions[i]+slab_vh[2*i+1]\n"
   ]
  },
  {
   "cell_type": "code",
   "execution_count": 7,
   "id": "7ab71e24",
   "metadata": {},
   "outputs": [
    {
     "data": {
      "text/plain": [
       "<Popen: returncode: None args: ['/Users/marivi/SOFT/miniforge3/bin/python3.9...>"
      ]
     },
     "execution_count": 7,
     "metadata": {},
     "output_type": "execute_result"
    }
   ],
   "source": [
    "view(slab_str)"
   ]
  },
  {
   "cell_type": "code",
   "execution_count": 8,
   "id": "526e212c",
   "metadata": {},
   "outputs": [],
   "source": [
    "slab_str.write(\"slab_stg.xyz\")"
   ]
  },
  {
   "cell_type": "code",
   "execution_count": 26,
   "id": "ac911da7",
   "metadata": {},
   "outputs": [],
   "source": [
    "# Now repeat but applying a sinusoudal wave.\n",
    "# I'm applying a half wavelenght deformation (note w=pi/l and not 2pi/l)\n",
    "# The long distance (wavelength is along the y direction)\n",
    "# This code will generate multiple files, deforming along z and x each with\n",
    "# 8 different amplitudes.\n",
    "# For the relaxation the first layer will need to be constrained. We understand 1st layer as that with smallest z or x\n",
    "# both have been set to be zero.\n",
    "# The constraint routine needs to change depending on which direction is kept fixed. But note that the ttmm3f relaxation\n",
    "# code has been tightly couple to this part, so the code is only usable for this project. Also\n",
    "# Ones needs to recompile if the strain direction is changes and the constrain\n",
    "# subroutine needs to be rewritten accordingly.\n",
    "\n",
    "l = slab.cell[1][1]\n",
    "w = 2*np.pi/l \n",
    "\n",
    "for ia in range(9):\n",
    "\n",
    "    a = float(ia) # Amplitude of the wave in Ang, i=0 means the unconstrained slab, which we need for the analysis\n",
    "    minZ=min(slab_o.positions[:][2]) # Minimum z coordinate, will determine the origin.\n",
    "    minY=min(slab_o.positions[:][1]) # Minimum y coordinate\n",
    "    minX=min(slab_o.positions[:][0]) # Minimum x coordinate\n",
    "\n",
    "    slab_os=slab_o.copy()\n",
    "    # Strain along z\n",
    "    for i in range(int(Na/3)):\n",
    "        #Rigid shift of slab\n",
    "        deltaz = slab_o.positions[i][2]-minZ\n",
    "        deltay = slab_o.positions[i][1]-minY\n",
    "        deltax = slab_o.positions[i][0]-minY\n",
    "        # Apply strain along z\n",
    "        deltaz = deltaz + a*np.sin(w*deltay)\n",
    "        slab_os.positions[i][2]=deltaz\n",
    "        slab_os.positions[i][1]=deltay\n",
    "    # Create a new Strained slab object from original\n",
    "    slab_str=slab.copy()\n",
    "    for i in range(int(Na/3)):\n",
    "        slab_str.positions[3*i]=slab_os.positions[i]\n",
    "        slab_str.positions[3*i+1]=slab_os.positions[i]+slab_vh[2*i]\n",
    "        slab_str.positions[3*i+2]=slab_os.positions[i]+slab_vh[2*i+1]\n",
    "    slab_str.write(direct+\"slab_singz\"+str(ia)+\".xyz\")    \n",
    "    # Strain along x\n",
    "    slab_os=slab_o.copy()\n",
    "    for i in range(int(Na/3)):\n",
    "        #Rigid shift of slab\n",
    "        deltaz = slab_o.positions[i][2]-minZ\n",
    "        deltay = slab_o.positions[i][1]-minY\n",
    "        deltax = slab_o.positions[i][0]-minY\n",
    "        # Apply strain along x\n",
    "        deltax = deltax + a*np.sin(w*deltay)\n",
    "        slab_os.positions[i][0]=deltax\n",
    "        slab_os.positions[i][1]=deltay\n",
    "    # Create a new Strained slab object from original\n",
    "    slab_str=slab.copy()\n",
    "    for i in range(int(Na/3)):\n",
    "        slab_str.positions[3*i]=slab_os.positions[i]\n",
    "        slab_str.positions[3*i+1]=slab_os.positions[i]+slab_vh[2*i]\n",
    "        slab_str.positions[3*i+2]=slab_os.positions[i]+slab_vh[2*i+1]\n",
    "    slab_str.write(direct+\"slab_singx\"+str(ia)+\".xyz\")                   \n"
   ]
  },
  {
   "cell_type": "code",
   "execution_count": 27,
   "id": "f5d92097",
   "metadata": {},
   "outputs": [
    {
     "data": {
      "text/plain": [
       "<Popen: returncode: None args: ['/Users/marivi/SOFT/miniforge3/bin/python3.9...>"
      ]
     },
     "execution_count": 27,
     "metadata": {},
     "output_type": "execute_result"
    }
   ],
   "source": [
    "view(slab_str)"
   ]
  },
  {
   "cell_type": "code",
   "execution_count": 24,
   "id": "f1370480",
   "metadata": {},
   "outputs": [],
   "source": [
    "# Apply a Bending Strain Deformation\n",
    "d = slab.cell[1][1] # The longest slab dimension\n",
    "h = slab.cell[0][0] # The shortest slab dimension\n",
    "\n",
    "R = 2*d # This needs to be adjusted\n",
    "theta = 2*np.arcsin(d/(2*R))\n",
    "\n",
    "minZ=min(slab_o.positions[:][2]) # Minimum z coordinate, will determine the origin.\n",
    "minY=min(slab_o.positions[:][1]) # Minimum y coordinate\n",
    "minX=min(slab_o.positions[:][0]) # Minimum x coordinate\n",
    "\n",
    "slab_os=slab_o.copy()\n",
    "    # Bending yz plane\n",
    "for i in range(int(Na/3)):\n",
    "        #Rigid shift of slab\n",
    "    deltaz = slab_o.positions[i][2]-minZ\n",
    "    deltay = slab_o.positions[i][1]-minY\n",
    "    deltax = slab_o.positions[i][0]-minY\n",
    "        # Apply strain along z\n",
    "    deltax = deltax + R*np.cos(theta/2)-(R-deltax)*np.cos(theta*(deltay/d-0.5))\n",
    "    deltay = deltay + d/2+(R-deltax)*np.sin(theta*(deltay/d-0.5))\n",
    "    slab_os.positions[i][2]=deltaz\n",
    "    slab_os.positions[i][1]=deltay\n",
    "    slab_os.positions[i][0]=deltax\n",
    "\n",
    "    # Create a new Strained slab object from original\n",
    "slab_str=slab.copy()\n",
    "for i in range(int(Na/3)):\n",
    "    slab_str.positions[3*i]=slab_os.positions[i]\n",
    "    slab_str.positions[3*i+1]=slab_os.positions[i]+slab_vh[2*i]\n",
    "    slab_str.positions[3*i+2]=slab_os.positions[i]+slab_vh[2*i+1]\n",
    "slab_str.write(direct+\"slab_bend\"+str(ia)+\".xyz\")    "
   ]
  },
  {
   "cell_type": "code",
   "execution_count": 25,
   "id": "46973a5c",
   "metadata": {},
   "outputs": [
    {
     "data": {
      "text/plain": [
       "<Popen: returncode: None args: ['/Users/marivi/SOFT/miniforge3/bin/python3.9...>"
      ]
     },
     "execution_count": 25,
     "metadata": {},
     "output_type": "execute_result"
    }
   ],
   "source": [
    "view(slab_str)"
   ]
  },
  {
   "cell_type": "code",
   "execution_count": 19,
   "id": "7a3d416a",
   "metadata": {},
   "outputs": [
    {
     "name": "stdout",
     "output_type": "stream",
     "text": [
      "116.835 26.982 233.67 0.5053605102841573\n"
     ]
    }
   ],
   "source": [
    "print(d,h,R, theta)"
   ]
  },
  {
   "cell_type": "code",
   "execution_count": null,
   "id": "1adf70e7",
   "metadata": {},
   "outputs": [],
   "source": []
  }
 ],
 "metadata": {
  "kernelspec": {
   "display_name": "Python 3 (ipykernel)",
   "language": "python",
   "name": "python3"
  },
  "language_info": {
   "codemirror_mode": {
    "name": "ipython",
    "version": 3
   },
   "file_extension": ".py",
   "mimetype": "text/x-python",
   "name": "python",
   "nbconvert_exporter": "python",
   "pygments_lexer": "ipython3",
   "version": "3.9.10"
  }
 },
 "nbformat": 4,
 "nbformat_minor": 5
}
